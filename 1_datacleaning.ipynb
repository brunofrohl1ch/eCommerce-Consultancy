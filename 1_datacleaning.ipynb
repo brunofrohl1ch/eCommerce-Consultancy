{
 "cells": [
  {
   "cell_type": "markdown",
   "metadata": {},
   "source": [
    "# DATA CLEANING"
   ]
  },
  {
   "cell_type": "code",
   "execution_count": 134,
   "metadata": {},
   "outputs": [],
   "source": [
    "import pandas as pd\n",
    "import numpy as np\n",
    "import matplotlib.pyplot as plt\n",
    "import seaborn as sns\n",
    "import missingno as msno"
   ]
  },
  {
   "cell_type": "code",
   "execution_count": 135,
   "metadata": {},
   "outputs": [
    {
     "name": "stderr",
     "output_type": "stream",
     "text": [
      "C:\\Users\\bruno\\AppData\\Local\\Temp\\ipykernel_9236\\3037692316.py:2: DtypeWarning: Columns (20) have mixed types. Specify dtype option on import or set low_memory=False.\n",
      "  df = pd.read_csv('dataset_kaizen.csv')\n"
     ]
    }
   ],
   "source": [
    "# reading the dataset\n",
    "df = pd.read_csv('dataset_kaizen.csv')\n",
    "pd.set_option('display.max_columns', None)"
   ]
  },
  {
   "cell_type": "code",
   "execution_count": 136,
   "metadata": {},
   "outputs": [],
   "source": [
    "# Droping unusable variables\n",
    "df.drop(columns=['CHAVE','Coluna1','Coluna2','ID_ROW','DATA_IMPORT','MES_REF','DATA_IMPORT','NOME','RECUPERACAO','PRODUTO_CERTO'],inplace=True)"
   ]
  },
  {
   "cell_type": "code",
   "execution_count": 137,
   "metadata": {},
   "outputs": [],
   "source": [
    "# Converting date variables to date type\n",
    "columns_to_convert = ['DATA_DO_HOTZAP', '1O_CONTATO', '2O_CONTATO', '3O_CONTATO', '4O_CONTATO']\n",
    "df[columns_to_convert] = df[columns_to_convert].apply(pd.to_datetime, errors='coerce')"
   ]
  },
  {
   "cell_type": "code",
   "execution_count": 138,
   "metadata": {},
   "outputs": [
    {
     "data": {
      "text/plain": [
       "DATA_DO_HOTZAP         4\n",
       "1O_CONTATO          1176\n",
       "2O_CONTATO         92477\n",
       "3O_CONTATO        114877\n",
       "4O_CONTATO        121183\n",
       "dtype: int64"
      ]
     },
     "execution_count": 138,
     "metadata": {},
     "output_type": "execute_result"
    }
   ],
   "source": [
    "# Checking null columns\n",
    "df[columns_to_convert].isnull().sum()"
   ]
  },
  {
   "cell_type": "code",
   "execution_count": 139,
   "metadata": {},
   "outputs": [],
   "source": [
    "# Drop rows that does not content information at the variables DATA_DO_HOTZAP and 1O_CONTATO\n",
    "df.dropna(subset=['DATA_DO_HOTZAP','1O_CONTATO'], inplace=True)"
   ]
  },
  {
   "cell_type": "code",
   "execution_count": 140,
   "metadata": {},
   "outputs": [],
   "source": [
    "# Creating new variable called N_contatos, that being the sum of how many contacts the company did including the HOTZAP\n",
    "columns_to_count = ['DATA_DO_HOTZAP', '1O_CONTATO', '2O_CONTATO', '3O_CONTATO', '4O_CONTATO']\n",
    "df['N_contatos'] = df[columns_to_count].notnull().sum(axis=1)"
   ]
  },
  {
   "cell_type": "code",
   "execution_count": 141,
   "metadata": {},
   "outputs": [
    {
     "data": {
      "text/plain": [
       "STATUS_ATUAL         447\n",
       "PRODUTO             1301\n",
       "STATUS_INICIAL       878\n",
       "CONSULTOR              0\n",
       "DATA_DO_HOTZAP         0\n",
       "1O_CONTATO             0\n",
       "2O_CONTATO         91301\n",
       "3O_CONTATO        113701\n",
       "4O_CONTATO        120007\n",
       "FATURAMENTO       117402\n",
       "DDD                    4\n",
       "TIPO_SERVICO        1560\n",
       "TX_COMISSAO         2829\n",
       "CLIENTE                4\n",
       "N_contatos             0\n",
       "dtype: int64"
      ]
     },
     "execution_count": 141,
     "metadata": {},
     "output_type": "execute_result"
    }
   ],
   "source": [
    "# Detecting missing values\n",
    "df.isnull().sum()                    "
   ]
  },
  {
   "cell_type": "code",
   "execution_count": 142,
   "metadata": {},
   "outputs": [],
   "source": [
    "# Since the size of Null Arguments are so small considering the size of the dataset, we can just delete it\n",
    "\n",
    "df.dropna(subset=['STATUS_ATUAL','TIPO_SERVICO','TX_COMISSAO','DDD'], inplace=True)"
   ]
  },
  {
   "cell_type": "code",
   "execution_count": 143,
   "metadata": {},
   "outputs": [
    {
     "data": {
      "text/plain": [
       "STATUS_ATUAL           0\n",
       "PRODUTO                1\n",
       "STATUS_INICIAL         5\n",
       "CONSULTOR              0\n",
       "DATA_DO_HOTZAP         0\n",
       "1O_CONTATO             0\n",
       "2O_CONTATO         88403\n",
       "3O_CONTATO        110446\n",
       "4O_CONTATO        116752\n",
       "FATURAMENTO       114151\n",
       "DDD                    0\n",
       "TIPO_SERVICO           0\n",
       "TX_COMISSAO            0\n",
       "CLIENTE                0\n",
       "N_contatos             0\n",
       "dtype: int64"
      ]
     },
     "execution_count": 143,
     "metadata": {},
     "output_type": "execute_result"
    }
   ],
   "source": [
    "# Detecting missing values\n",
    "df.isnull().sum()"
   ]
  },
  {
   "cell_type": "code",
   "execution_count": 144,
   "metadata": {},
   "outputs": [],
   "source": [
    "# Columns FATURAMENTO fix to be a float variable, so we can use the values\n",
    "df['FATURAMENTO'] = df['FATURAMENTO'].str.replace('R$ ', '').str.replace(',', '').astype(float)"
   ]
  },
  {
   "cell_type": "code",
   "execution_count": null,
   "metadata": {},
   "outputs": [],
   "source": []
  },
  {
   "cell_type": "code",
   "execution_count": 145,
   "metadata": {},
   "outputs": [
    {
     "data": {
      "text/plain": [
       "array(['Sandra Teixeira', 'Enaile Carla', 'Juliana Lemos', 'Bruno Xavier',\n",
       "       'Stephanie dos Santos', 'Glaucia Guarino', 'Malena Gama',\n",
       "       'Isa Gabriela', 'Carolina Macedo', 'Anna Berger', 'Bianca Benda',\n",
       "       'Priscila Lima', 'Malena', 'Lucas Delfino', 'Paula Bartoline',\n",
       "       'Meiriele Lemos', 'Adriana Taveira', 'Gleidson BrandÃ£o',\n",
       "       'Carla Yara', 'Juliana Sarantakos', 'Luis Conegundes',\n",
       "       'Renato Silveira', 'Gabriel Papi', 'Iago Chicralla',\n",
       "       'Igor Gabriel', 'RaÃ\\xadssa Rodrigues', 'Giovani Abreu',\n",
       "       'Giovani Abreu ', 'Gabriel Pereira', 'Glaucia Ank', 'Giovani Papi',\n",
       "       'Alex Sander', 'Felipe Durso'], dtype=object)"
      ]
     },
     "execution_count": 145,
     "metadata": {},
     "output_type": "execute_result"
    }
   ],
   "source": [
    "df.CONSULTOR.unique()"
   ]
  },
  {
   "cell_type": "code",
   "execution_count": 146,
   "metadata": {},
   "outputs": [],
   "source": [
    "df['CONSULTOR'] = df['CONSULTOR'].replace('RaÃ\\xadssa Rodrigues', 'Raíssa Rodrigues')\n",
    "df['CONSULTOR'] = df['CONSULTOR'].replace('Gleidson BrandÃ£o', 'Gleidson Brandão')\n",
    "df['CONSULTOR'] = df['CONSULTOR'].replace('Giovani Abreu ', 'Giovani Abreu')"
   ]
  },
  {
   "cell_type": "code",
   "execution_count": 147,
   "metadata": {},
   "outputs": [],
   "source": [
    "genero = {\n",
    "    'Sandra Teixeira': 1,\n",
    "    'Enaile Carla': 1,\n",
    "    'Juliana Lemos': 1,\n",
    "    'Bruno Xavier': 0,\n",
    "    'Stephanie dos Santos': 1,\n",
    "    'Glaucia Guarino': 1,\n",
    "    'Malena Gama': 1,\n",
    "    'Isa Gabriela': 1,\n",
    "    'Carolina Macedo': 1,\n",
    "    'Anna Berger': 1,\n",
    "    'Bianca Benda': 1,\n",
    "    'Priscila Lima': 1,\n",
    "    'Lucas Delfino': 0,\n",
    "    'Paula Bartoline': 1,\n",
    "    'Meiriele Lemos': 1,\n",
    "    'Adriana Taveira': 1,\n",
    "    'Gleidson Brandão': 0,\n",
    "    'Carla Yara': 1,\n",
    "    'Juliana Sarantakos': 1,\n",
    "    'Malena': 1,\n",
    "    'Luis Conegundes': 0,\n",
    "    'Renato Silveira': 0,\n",
    "    'Gabriel Papi': 0,\n",
    "    'Iago Chicralla': 0,\n",
    "    'Igor Gabriel': 0,\n",
    "    'Raíssa Rodrigues': 1,\n",
    "    'Giovani Abreu': 0,\n",
    "    'Gabriel Pereira': 0,\n",
    "    'Giovani Papi': 0,\n",
    "    'Alex Sander': 0\n",
    "}\n",
    "\n",
    "#Maping 1 for women, 0 for men\n",
    "df['mulher'] = df['CONSULTOR'].map(genero)"
   ]
  },
  {
   "cell_type": "code",
   "execution_count": 148,
   "metadata": {},
   "outputs": [
    {
     "data": {
      "text/html": [
       "<div>\n",
       "<style scoped>\n",
       "    .dataframe tbody tr th:only-of-type {\n",
       "        vertical-align: middle;\n",
       "    }\n",
       "\n",
       "    .dataframe tbody tr th {\n",
       "        vertical-align: top;\n",
       "    }\n",
       "\n",
       "    .dataframe thead th {\n",
       "        text-align: right;\n",
       "    }\n",
       "</style>\n",
       "<table border=\"1\" class=\"dataframe\">\n",
       "  <thead>\n",
       "    <tr style=\"text-align: right;\">\n",
       "      <th></th>\n",
       "      <th>STATUS_ATUAL</th>\n",
       "      <th>PRODUTO</th>\n",
       "      <th>STATUS_INICIAL</th>\n",
       "      <th>CONSULTOR</th>\n",
       "      <th>DATA_DO_HOTZAP</th>\n",
       "      <th>1O_CONTATO</th>\n",
       "      <th>2O_CONTATO</th>\n",
       "      <th>3O_CONTATO</th>\n",
       "      <th>4O_CONTATO</th>\n",
       "      <th>FATURAMENTO</th>\n",
       "      <th>DDD</th>\n",
       "      <th>TIPO_SERVICO</th>\n",
       "      <th>TX_COMISSAO</th>\n",
       "      <th>CLIENTE</th>\n",
       "      <th>N_contatos</th>\n",
       "      <th>mulher</th>\n",
       "    </tr>\n",
       "  </thead>\n",
       "  <tbody>\n",
       "    <tr>\n",
       "      <th>50520</th>\n",
       "      <td>4- Sem whats</td>\n",
       "      <td>Mapa Astral Digitalizado</td>\n",
       "      <td>Abandono</td>\n",
       "      <td>Carolina Macedo</td>\n",
       "      <td>2021-12-22 11:11:00</td>\n",
       "      <td>2021-12-22 15:17:00</td>\n",
       "      <td>NaT</td>\n",
       "      <td>NaT</td>\n",
       "      <td>NaT</td>\n",
       "      <td>NaN</td>\n",
       "      <td>NU</td>\n",
       "      <td>PerpÃ©tuo</td>\n",
       "      <td>10.00%</td>\n",
       "      <td>Claudia Lisboa</td>\n",
       "      <td>2</td>\n",
       "      <td>1.0</td>\n",
       "    </tr>\n",
       "    <tr>\n",
       "      <th>60844</th>\n",
       "      <td>3- Sem resposta</td>\n",
       "      <td>Academia da Mente</td>\n",
       "      <td>Abandono</td>\n",
       "      <td>Priscila Lima</td>\n",
       "      <td>2022-01-11 17:18:00</td>\n",
       "      <td>2022-01-11 17:19:00</td>\n",
       "      <td>2022-01-12</td>\n",
       "      <td>NaT</td>\n",
       "      <td>2022-01-13</td>\n",
       "      <td>NaN</td>\n",
       "      <td>91</td>\n",
       "      <td>LanÃ§amento</td>\n",
       "      <td>5.00%</td>\n",
       "      <td>Maura de Albanesi</td>\n",
       "      <td>4</td>\n",
       "      <td>1.0</td>\n",
       "    </tr>\n",
       "    <tr>\n",
       "      <th>11245</th>\n",
       "      <td>3- Sem resposta</td>\n",
       "      <td>BiomecÃ¢nica Funcional na Alta Performance</td>\n",
       "      <td>Lista</td>\n",
       "      <td>Lucas Delfino</td>\n",
       "      <td>2021-11-12 15:40:00</td>\n",
       "      <td>2021-11-12 15:39:00</td>\n",
       "      <td>NaT</td>\n",
       "      <td>NaT</td>\n",
       "      <td>NaT</td>\n",
       "      <td>NaN</td>\n",
       "      <td>88</td>\n",
       "      <td>Lista</td>\n",
       "      <td>10.00%</td>\n",
       "      <td>Rafael Winicki</td>\n",
       "      <td>2</td>\n",
       "      <td>0.0</td>\n",
       "    </tr>\n",
       "  </tbody>\n",
       "</table>\n",
       "</div>"
      ],
      "text/plain": [
       "          STATUS_ATUAL                                     PRODUTO  \\\n",
       "50520     4- Sem whats                    Mapa Astral Digitalizado   \n",
       "60844  3- Sem resposta                           Academia da Mente   \n",
       "11245  3- Sem resposta  BiomecÃ¢nica Funcional na Alta Performance   \n",
       "\n",
       "      STATUS_INICIAL        CONSULTOR      DATA_DO_HOTZAP          1O_CONTATO  \\\n",
       "50520       Abandono  Carolina Macedo 2021-12-22 11:11:00 2021-12-22 15:17:00   \n",
       "60844       Abandono    Priscila Lima 2022-01-11 17:18:00 2022-01-11 17:19:00   \n",
       "11245          Lista    Lucas Delfino 2021-11-12 15:40:00 2021-11-12 15:39:00   \n",
       "\n",
       "      2O_CONTATO 3O_CONTATO 4O_CONTATO  FATURAMENTO DDD TIPO_SERVICO  \\\n",
       "50520        NaT        NaT        NaT          NaN  NU    PerpÃ©tuo   \n",
       "60844 2022-01-12        NaT 2022-01-13          NaN  91  LanÃ§amento   \n",
       "11245        NaT        NaT        NaT          NaN  88        Lista   \n",
       "\n",
       "      TX_COMISSAO            CLIENTE  N_contatos  mulher  \n",
       "50520      10.00%     Claudia Lisboa           2     1.0  \n",
       "60844       5.00%  Maura de Albanesi           4     1.0  \n",
       "11245      10.00%     Rafael Winicki           2     0.0  "
      ]
     },
     "execution_count": 148,
     "metadata": {},
     "output_type": "execute_result"
    }
   ],
   "source": [
    "df.sample(3)"
   ]
  },
  {
   "cell_type": "code",
   "execution_count": 149,
   "metadata": {},
   "outputs": [
    {
     "data": {
      "text/plain": [
       "STATUS_ATUAL           0\n",
       "PRODUTO                1\n",
       "STATUS_INICIAL         5\n",
       "CONSULTOR              0\n",
       "DATA_DO_HOTZAP         0\n",
       "1O_CONTATO             0\n",
       "2O_CONTATO         88403\n",
       "3O_CONTATO        110446\n",
       "4O_CONTATO        116752\n",
       "FATURAMENTO       114151\n",
       "DDD                    0\n",
       "TIPO_SERVICO           0\n",
       "TX_COMISSAO            0\n",
       "CLIENTE                0\n",
       "N_contatos             0\n",
       "mulher              3412\n",
       "dtype: int64"
      ]
     },
     "execution_count": 149,
     "metadata": {},
     "output_type": "execute_result"
    }
   ],
   "source": [
    "df.isnull().sum()"
   ]
  },
  {
   "cell_type": "markdown",
   "metadata": {},
   "source": [
    "# Feature Engeneering"
   ]
  },
  {
   "cell_type": "code",
   "execution_count": 150,
   "metadata": {},
   "outputs": [],
   "source": [
    "# Calculating the minutes between the first human contact and the date of the bot message\n",
    "df['tempo_contato'] = df['1O_CONTATO'] - df['DATA_DO_HOTZAP']\n",
    "\n",
    "# Dele\n",
    "negative_diff_rows = df[df['tempo_contato'] < pd.Timedelta(0)]\n",
    "df = df[df['tempo_contato'] > pd.Timedelta(0)]\n",
    "\n",
    "df['minutos_1contato'] = df['tempo_contato'].apply(lambda x: x.total_seconds() / 60)\n",
    "\n",
    "df.drop(columns='tempo_contato')\n",
    "\n",
    "# Creating a new variable called SUCESSO that is 1 if the buy was successful and 0 otherwise\n",
    "df['SUCESSO'] = df['STATUS_ATUAL'].apply(lambda x: 1 if x in ['7- Positivo', '8- Positivo (Trackeado)'] else 0)\n",
    "\n",
    "# droping 5 rows that contain missing values in STATUS_INICIAL\n",
    "df.dropna(subset=['STATUS_INICIAL'], inplace=True)"
   ]
  },
  {
   "cell_type": "code",
   "execution_count": 151,
   "metadata": {},
   "outputs": [],
   "source": [
    "df['DDD'] = pd.to_numeric(df['DDD'], errors='coerce')\n",
    "df.dropna(subset=['DDD'], inplace=True)\n",
    "df['DDD'] = df['DDD'].astype(int)\n",
    "\n",
    "ddd_estado = {61: 'DF', 62: 'GO', 64: 'GO', 65: 'MT', 66: 'MT', 67: 'MS',\n",
    "              82: 'AL', 71: 'BA', 73: 'BA', 74: 'BA', 75: 'BA', 77: 'BA',\n",
    "              85: 'CE', 88: 'CE', 98: 'MA', 99: 'MA', 83: 'PB', 81: 'PE',\n",
    "              87: 'PE', 86: 'PI', 89: 'PI', 84: 'RN', 79: 'SE', 68: 'AC',\n",
    "              96: 'AP', 92: 'AM', 97: 'AM', 91: 'PA', 93: 'PA', 94: 'PA',\n",
    "              69: 'RO', 95: 'RR', 63: 'TO', 27: 'ES', 28: 'ES', 31: 'MG',\n",
    "              32: 'MG', 33: 'MG', 34: 'MG', 35: 'MG', 37: 'MG', 38: 'MG',\n",
    "              21: 'RJ', 22: 'RJ', 24: 'RJ', 11: 'SP', 12: 'SP', 13: 'SP',\n",
    "              14: 'SP', 15: 'SP', 16: 'SP', 17: 'SP', 18: 'SP', 19: 'SP',\n",
    "              41: 'PR', 42: 'PR', 43: 'PR', 44: 'PR', 45: 'PR', 46: 'PR',\n",
    "              51: 'RS', 53: 'RS', 54: 'RS', 55: 'RS', 47: 'SC', 48: 'SC',\n",
    "              49: 'SC'}\n",
    "# Making it set the state based on the DDD information, if it doesn't match, look up the closest number\n",
    "def find_closest_area_code(area_code):\n",
    "    closest = min(ddd_estado.keys(), key=lambda x: abs(x - area_code))\n",
    "    return ddd_estado[closest]\n",
    "df['ESTADO'] = df['DDD'].apply(lambda x: ddd_estado.get(x, find_closest_area_code(x)))"
   ]
  },
  {
   "cell_type": "code",
   "execution_count": 152,
   "metadata": {},
   "outputs": [
    {
     "data": {
      "text/plain": [
       "STATUS_ATUAL            0\n",
       "PRODUTO                 1\n",
       "STATUS_INICIAL          0\n",
       "CONSULTOR               0\n",
       "DATA_DO_HOTZAP          0\n",
       "1O_CONTATO              0\n",
       "2O_CONTATO          37969\n",
       "3O_CONTATO          53696\n",
       "4O_CONTATO          59591\n",
       "FATURAMENTO         57658\n",
       "DDD                     0\n",
       "TIPO_SERVICO            0\n",
       "TX_COMISSAO             0\n",
       "CLIENTE                 0\n",
       "N_contatos              0\n",
       "mulher                  0\n",
       "tempo_contato           0\n",
       "minutos_1contato        0\n",
       "SUCESSO                 0\n",
       "ESTADO                  0\n",
       "dtype: int64"
      ]
     },
     "execution_count": 152,
     "metadata": {},
     "output_type": "execute_result"
    }
   ],
   "source": [
    "df.isnull().sum()"
   ]
  },
  {
   "cell_type": "code",
   "execution_count": 153,
   "metadata": {},
   "outputs": [],
   "source": [
    "# \"Since only the dates informations are missing because it were never present, replace it with zero.\"\n",
    "df.fillna(0, inplace=True)"
   ]
  },
  {
   "cell_type": "code",
   "execution_count": 154,
   "metadata": {},
   "outputs": [
    {
     "data": {
      "text/plain": [
       "STATUS_ATUAL        0\n",
       "PRODUTO             0\n",
       "STATUS_INICIAL      0\n",
       "CONSULTOR           0\n",
       "DATA_DO_HOTZAP      0\n",
       "1O_CONTATO          0\n",
       "2O_CONTATO          0\n",
       "3O_CONTATO          0\n",
       "4O_CONTATO          0\n",
       "FATURAMENTO         0\n",
       "DDD                 0\n",
       "TIPO_SERVICO        0\n",
       "TX_COMISSAO         0\n",
       "CLIENTE             0\n",
       "N_contatos          0\n",
       "mulher              0\n",
       "tempo_contato       0\n",
       "minutos_1contato    0\n",
       "SUCESSO             0\n",
       "ESTADO              0\n",
       "dtype: int64"
      ]
     },
     "execution_count": 154,
     "metadata": {},
     "output_type": "execute_result"
    }
   ],
   "source": [
    "df.isnull().sum()"
   ]
  },
  {
   "cell_type": "code",
   "execution_count": 157,
   "metadata": {},
   "outputs": [
    {
     "data": {
      "text/plain": [
       "FATURAMENTO\n",
       "0.00       57694\n",
       "297.00      1782\n",
       "997.00      1582\n",
       "1231.70      999\n",
       "1997.00      840\n",
       "           ...  \n",
       "708.00         1\n",
       "134.95         1\n",
       "132.50         1\n",
       "10.00          1\n",
       "199.99         1\n",
       "Name: count, Length: 147, dtype: int64"
      ]
     },
     "execution_count": 157,
     "metadata": {},
     "output_type": "execute_result"
    }
   ],
   "source": [
    "df.FATURAMENTO.value_counts()\n"
   ]
  },
  {
   "cell_type": "code",
   "execution_count": 156,
   "metadata": {},
   "outputs": [],
   "source": [
    "df.to_csv('DadosTratados.csv', index=False)"
   ]
  }
 ],
 "metadata": {
  "kernelspec": {
   "display_name": "base",
   "language": "python",
   "name": "python3"
  },
  "language_info": {
   "codemirror_mode": {
    "name": "ipython",
    "version": 3
   },
   "file_extension": ".py",
   "mimetype": "text/x-python",
   "name": "python",
   "nbconvert_exporter": "python",
   "pygments_lexer": "ipython3",
   "version": "3.11.5"
  }
 },
 "nbformat": 4,
 "nbformat_minor": 2
}
