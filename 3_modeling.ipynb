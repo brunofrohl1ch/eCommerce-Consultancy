{
 "cells": [
  {
   "cell_type": "code",
   "execution_count": 93,
   "metadata": {},
   "outputs": [],
   "source": [
    "import pandas as pd\n",
    "import numpy as np\n",
    "import matplotlib.pyplot as plt\n",
    "import seaborn as sns\n",
    "import plotly.express as px\n",
    "from matplotlib.patches import Patch\n",
    "from sklearn.model_selection import train_test_split\n",
    "from sklearn.linear_model import LogisticRegression\n",
    "from sklearn.metrics import accuracy_score\n",
    "from sklearn.metrics import accuracy_score, classification_report, confusion_matrix\n",
    "from sklearn.tree import DecisionTreeClassifier\n",
    "from sklearn.ensemble import RandomForestClassifier\n",
    "from xgboost import XGBClassifier\n",
    "from sklearn.neural_network import MLPClassifier\n",
    "from sklearn.neighbors import KNeighborsClassifier\n",
    "from sklearn.naive_bayes import GaussianNB"
   ]
  },
  {
   "cell_type": "code",
   "execution_count": 94,
   "metadata": {},
   "outputs": [],
   "source": [
    "df = pd.read_csv('DadosModelagem.csv')"
   ]
  },
  {
   "cell_type": "markdown",
   "metadata": {},
   "source": [
    "# Selecting the columns we are gonna use on the modeling"
   ]
  },
  {
   "cell_type": "code",
   "execution_count": 95,
   "metadata": {},
   "outputs": [],
   "source": [
    "# Get Dummies on the following columns\n",
    "df = pd.get_dummies(df, columns=['TIPO_SERVICO'], prefix='Servico')\n",
    "df = pd.get_dummies(df, columns=['REGIAO'], prefix='Regiao')"
   ]
  },
  {
   "cell_type": "code",
   "execution_count": 96,
   "metadata": {},
   "outputs": [],
   "source": [
    "# Selection a new DataFrame with all the variables that are gonna be used for the modeling \n",
    "df_model = df[['SUCESSO', 'minutos_1contato', 'mulher', 'N_contatos', \n",
    "               'Servico_Assinatura', 'Servico_Downsell', 'Servico_E-commerce', \n",
    "               'Servico_Lançamento', 'Servico_Lista', 'Servico_Meteórico', \n",
    "               'Servico_Perpétuo', 'Regiao_Centro-Oeste', 'Regiao_Nordeste', \n",
    "               'Regiao_Norte', 'Regiao_Sudeste', 'Regiao_Sul']]"
   ]
  },
  {
   "cell_type": "code",
   "execution_count": 97,
   "metadata": {},
   "outputs": [
    {
     "data": {
      "text/html": [
       "<div>\n",
       "<style scoped>\n",
       "    .dataframe tbody tr th:only-of-type {\n",
       "        vertical-align: middle;\n",
       "    }\n",
       "\n",
       "    .dataframe tbody tr th {\n",
       "        vertical-align: top;\n",
       "    }\n",
       "\n",
       "    .dataframe thead th {\n",
       "        text-align: right;\n",
       "    }\n",
       "</style>\n",
       "<table border=\"1\" class=\"dataframe\">\n",
       "  <thead>\n",
       "    <tr style=\"text-align: right;\">\n",
       "      <th></th>\n",
       "      <th>SUCESSO</th>\n",
       "      <th>minutos_1contato</th>\n",
       "      <th>mulher</th>\n",
       "      <th>N_contatos</th>\n",
       "      <th>Servico_Assinatura</th>\n",
       "      <th>Servico_Downsell</th>\n",
       "      <th>Servico_E-commerce</th>\n",
       "      <th>Servico_Lançamento</th>\n",
       "      <th>Servico_Lista</th>\n",
       "      <th>Servico_Meteórico</th>\n",
       "      <th>Servico_Perpétuo</th>\n",
       "      <th>Regiao_Centro-Oeste</th>\n",
       "      <th>Regiao_Nordeste</th>\n",
       "      <th>Regiao_Norte</th>\n",
       "      <th>Regiao_Sudeste</th>\n",
       "      <th>Regiao_Sul</th>\n",
       "    </tr>\n",
       "  </thead>\n",
       "  <tbody>\n",
       "    <tr>\n",
       "      <th>0</th>\n",
       "      <td>0</td>\n",
       "      <td>544.0</td>\n",
       "      <td>1.0</td>\n",
       "      <td>3</td>\n",
       "      <td>False</td>\n",
       "      <td>False</td>\n",
       "      <td>False</td>\n",
       "      <td>True</td>\n",
       "      <td>False</td>\n",
       "      <td>False</td>\n",
       "      <td>False</td>\n",
       "      <td>False</td>\n",
       "      <td>False</td>\n",
       "      <td>False</td>\n",
       "      <td>True</td>\n",
       "      <td>False</td>\n",
       "    </tr>\n",
       "    <tr>\n",
       "      <th>1</th>\n",
       "      <td>0</td>\n",
       "      <td>557.0</td>\n",
       "      <td>1.0</td>\n",
       "      <td>2</td>\n",
       "      <td>False</td>\n",
       "      <td>False</td>\n",
       "      <td>False</td>\n",
       "      <td>False</td>\n",
       "      <td>False</td>\n",
       "      <td>False</td>\n",
       "      <td>True</td>\n",
       "      <td>False</td>\n",
       "      <td>False</td>\n",
       "      <td>False</td>\n",
       "      <td>True</td>\n",
       "      <td>False</td>\n",
       "    </tr>\n",
       "    <tr>\n",
       "      <th>2</th>\n",
       "      <td>0</td>\n",
       "      <td>529.0</td>\n",
       "      <td>1.0</td>\n",
       "      <td>5</td>\n",
       "      <td>False</td>\n",
       "      <td>False</td>\n",
       "      <td>False</td>\n",
       "      <td>False</td>\n",
       "      <td>False</td>\n",
       "      <td>False</td>\n",
       "      <td>True</td>\n",
       "      <td>False</td>\n",
       "      <td>False</td>\n",
       "      <td>False</td>\n",
       "      <td>True</td>\n",
       "      <td>False</td>\n",
       "    </tr>\n",
       "    <tr>\n",
       "      <th>3</th>\n",
       "      <td>0</td>\n",
       "      <td>444.0</td>\n",
       "      <td>1.0</td>\n",
       "      <td>5</td>\n",
       "      <td>False</td>\n",
       "      <td>False</td>\n",
       "      <td>False</td>\n",
       "      <td>False</td>\n",
       "      <td>False</td>\n",
       "      <td>False</td>\n",
       "      <td>True</td>\n",
       "      <td>False</td>\n",
       "      <td>False</td>\n",
       "      <td>False</td>\n",
       "      <td>True</td>\n",
       "      <td>False</td>\n",
       "    </tr>\n",
       "    <tr>\n",
       "      <th>4</th>\n",
       "      <td>0</td>\n",
       "      <td>479.0</td>\n",
       "      <td>1.0</td>\n",
       "      <td>3</td>\n",
       "      <td>False</td>\n",
       "      <td>False</td>\n",
       "      <td>False</td>\n",
       "      <td>True</td>\n",
       "      <td>False</td>\n",
       "      <td>False</td>\n",
       "      <td>False</td>\n",
       "      <td>False</td>\n",
       "      <td>False</td>\n",
       "      <td>True</td>\n",
       "      <td>False</td>\n",
       "      <td>False</td>\n",
       "    </tr>\n",
       "  </tbody>\n",
       "</table>\n",
       "</div>"
      ],
      "text/plain": [
       "   SUCESSO  minutos_1contato  mulher  N_contatos  Servico_Assinatura  \\\n",
       "0        0             544.0     1.0           3               False   \n",
       "1        0             557.0     1.0           2               False   \n",
       "2        0             529.0     1.0           5               False   \n",
       "3        0             444.0     1.0           5               False   \n",
       "4        0             479.0     1.0           3               False   \n",
       "\n",
       "   Servico_Downsell  Servico_E-commerce  Servico_Lançamento  Servico_Lista  \\\n",
       "0             False               False                True          False   \n",
       "1             False               False               False          False   \n",
       "2             False               False               False          False   \n",
       "3             False               False               False          False   \n",
       "4             False               False                True          False   \n",
       "\n",
       "   Servico_Meteórico  Servico_Perpétuo  Regiao_Centro-Oeste  Regiao_Nordeste  \\\n",
       "0              False             False                False            False   \n",
       "1              False              True                False            False   \n",
       "2              False              True                False            False   \n",
       "3              False              True                False            False   \n",
       "4              False             False                False            False   \n",
       "\n",
       "   Regiao_Norte  Regiao_Sudeste  Regiao_Sul  \n",
       "0         False            True       False  \n",
       "1         False            True       False  \n",
       "2         False            True       False  \n",
       "3         False            True       False  \n",
       "4          True           False       False  "
      ]
     },
     "execution_count": 97,
     "metadata": {},
     "output_type": "execute_result"
    }
   ],
   "source": [
    "df_model.head()"
   ]
  },
  {
   "cell_type": "markdown",
   "metadata": {},
   "source": [
    "# Selecting the target and the predictors"
   ]
  },
  {
   "cell_type": "code",
   "execution_count": 98,
   "metadata": {},
   "outputs": [],
   "source": [
    "X = df_model.drop(columns=['SUCESSO'])\n",
    "y = df_model['SUCESSO']"
   ]
  },
  {
   "cell_type": "markdown",
   "metadata": {},
   "source": [
    "# Dividing the dataset into train dataset and test dataset"
   ]
  },
  {
   "cell_type": "code",
   "execution_count": 99,
   "metadata": {},
   "outputs": [
    {
     "name": "stdout",
     "output_type": "stream",
     "text": [
      "(59580, 15) (14895, 15) (59580,) (14895,)\n"
     ]
    }
   ],
   "source": [
    "X_train, X_test, y_train, y_test = train_test_split(X, y, test_size=0.2)\n",
    "print(X_train.shape, X_test.shape, y_train.shape, y_test.shape)"
   ]
  },
  {
   "cell_type": "markdown",
   "metadata": {},
   "source": [
    "# 1. Logistic Regression"
   ]
  },
  {
   "cell_type": "code",
   "execution_count": 100,
   "metadata": {},
   "outputs": [
    {
     "name": "stdout",
     "output_type": "stream",
     "text": [
      "Accuracy Score Train: 0.7712319570325613\n",
      "Accuracy Score Test: 0.7775092312856663\n"
     ]
    }
   ],
   "source": [
    "log_reg = LogisticRegression(max_iter=1000)\n",
    "\n",
    "# Train the model on the training data\n",
    "log_reg.fit(X_train, y_train)\n",
    "\n",
    "# Make predictions on the training and testing data\n",
    "y_pred_train = log_reg.predict(X_train)\n",
    "y_pred_test = log_reg.predict(X_test)\n",
    "\n",
    "# Evaluate the model\n",
    "accuracy_train_1 = accuracy_score(y_train, y_pred_train)\n",
    "accuracy_test_1 = accuracy_score(y_test, y_pred_test)\n",
    "\n",
    "print('Accuracy Score Train:', accuracy_train_1)\n",
    "print('Accuracy Score Test:', accuracy_test_1)"
   ]
  },
  {
   "cell_type": "markdown",
   "metadata": {},
   "source": [
    "# 2. Decision Tree Classifier"
   ]
  },
  {
   "cell_type": "code",
   "execution_count": 101,
   "metadata": {},
   "outputs": [
    {
     "name": "stdout",
     "output_type": "stream",
     "text": [
      "Accuracy Score Train: 0.8816549177576368\n",
      "Accuracy Score Test: 0.7662302786169856\n"
     ]
    }
   ],
   "source": [
    "# Initialize the Decision Tree classifier\n",
    "decision_tree = DecisionTreeClassifier()\n",
    "\n",
    "# Train the model on the training data\n",
    "decision_tree.fit(X_train, y_train)\n",
    "\n",
    "# Make predictions on the training and testing data\n",
    "y_pred_train = decision_tree.predict(X_train)\n",
    "y_pred_test = decision_tree.predict(X_test)\n",
    "\n",
    "# Evaluate the model\n",
    "accuracy_train_2 = accuracy_score(y_train, y_pred_train)\n",
    "accuracy_test_2 = accuracy_score(y_test, y_pred_test)\n",
    "\n",
    "print('Accuracy Score Train:', accuracy_train_2)\n",
    "print('Accuracy Score Test:', accuracy_test_2)"
   ]
  },
  {
   "cell_type": "markdown",
   "metadata": {},
   "source": [
    "# 3. Random Forest Classifier"
   ]
  },
  {
   "cell_type": "code",
   "execution_count": 102,
   "metadata": {},
   "outputs": [
    {
     "name": "stdout",
     "output_type": "stream",
     "text": [
      "Accuracy Score Train: 0.8814702920443102\n",
      "Accuracy Score Test: 0.7646189996643169\n"
     ]
    }
   ],
   "source": [
    "# Initialize the Random Forest classifier\n",
    "random_forest = RandomForestClassifier()\n",
    "\n",
    "# Train the model on the training data\n",
    "random_forest.fit(X_train, y_train)\n",
    "\n",
    "# Make predictions on the training and testing data\n",
    "y_pred_train = random_forest.predict(X_train)\n",
    "y_pred_test = random_forest.predict(X_test)\n",
    "\n",
    "# Evaluate the model\n",
    "accuracy_train_3 = accuracy_score(y_train, y_pred_train)\n",
    "accuracy_test_3 = accuracy_score(y_test, y_pred_test)\n",
    "\n",
    "print('Accuracy Score Train:', accuracy_train_3)\n",
    "print('Accuracy Score Test:', accuracy_test_3)"
   ]
  },
  {
   "cell_type": "markdown",
   "metadata": {},
   "source": [
    "# 4. XGBoost Classifier"
   ]
  },
  {
   "cell_type": "code",
   "execution_count": 103,
   "metadata": {},
   "outputs": [
    {
     "name": "stdout",
     "output_type": "stream",
     "text": [
      "Accuracy Score Train: 0.8079556898288016\n",
      "Accuracy Score Test: 0.800469956361195\n"
     ]
    }
   ],
   "source": [
    "# Initialize the XGBoost classifier\n",
    "xgb_classifier = XGBClassifier(random_state=42)\n",
    "\n",
    "# Train the model on the training data\n",
    "xgb_classifier.fit(X_train, y_train)\n",
    "\n",
    "# Make predictions on the training and testing data\n",
    "y_pred_train = xgb_classifier.predict(X_train)\n",
    "y_pred_test = xgb_classifier.predict(X_test)\n",
    "\n",
    "# Evaluate the model\n",
    "accuracy_train_4 = accuracy_score(y_train, y_pred_train)\n",
    "accuracy_test_4 = accuracy_score(y_test, y_pred_test)\n",
    "\n",
    "print('Accuracy Score Train:', accuracy_train_4)\n",
    "print('Accuracy Score Test:', accuracy_test_4)\n"
   ]
  },
  {
   "cell_type": "markdown",
   "metadata": {},
   "source": [
    "# 5. Neural Networks"
   ]
  },
  {
   "cell_type": "code",
   "execution_count": 104,
   "metadata": {},
   "outputs": [
    {
     "name": "stdout",
     "output_type": "stream",
     "text": [
      "Accuracy Score Train: 0.7910372608257804\n",
      "Accuracy Score Test: 0.7917421953675731\n"
     ]
    }
   ],
   "source": [
    "# Initialize the MLP classifier\n",
    "mlp_classifier = MLPClassifier()\n",
    "\n",
    "# Train the model on the training data\n",
    "mlp_classifier.fit(X_train, y_train)\n",
    "\n",
    "# Make predictions on the training and testing data\n",
    "y_pred_train = mlp_classifier.predict(X_train)\n",
    "y_pred_test = mlp_classifier.predict(X_test)\n",
    "\n",
    "# Evaluate the model\n",
    "accuracy_train_5 = accuracy_score(y_train, y_pred_train)\n",
    "accuracy_test_5 = accuracy_score(y_test, y_pred_test)\n",
    "\n",
    "print('Accuracy Score Train:', accuracy_train_5)\n",
    "print('Accuracy Score Test:', accuracy_test_5)\n"
   ]
  },
  {
   "cell_type": "markdown",
   "metadata": {},
   "source": [
    "# 6. K-Nearest Neighbors (KNN)"
   ]
  },
  {
   "cell_type": "code",
   "execution_count": 105,
   "metadata": {},
   "outputs": [
    {
     "name": "stdout",
     "output_type": "stream",
     "text": [
      "Accuracy Score Train: 0.8102551191675059\n",
      "Accuracy Score Test: 0.774756629741524\n"
     ]
    }
   ],
   "source": [
    "# Initialize the KNN classifier\n",
    "knn_classifier = KNeighborsClassifier()\n",
    "\n",
    "# Train the model on the training data\n",
    "knn_classifier.fit(X_train, y_train)\n",
    "\n",
    "# Make predictions on the training and testing data\n",
    "y_pred_train = knn_classifier.predict(X_train)\n",
    "y_pred_test = knn_classifier.predict(X_test)\n",
    "\n",
    "# Evaluate the model\n",
    "accuracy_train_6 = accuracy_score(y_train, y_pred_train)\n",
    "accuracy_test_6 = accuracy_score(y_test, y_pred_test)\n",
    "\n",
    "print('Accuracy Score Train:', accuracy_train_6)\n",
    "print('Accuracy Score Test:', accuracy_test_6)\n"
   ]
  },
  {
   "cell_type": "markdown",
   "metadata": {},
   "source": [
    "# 7. Naive-Bayes"
   ]
  },
  {
   "cell_type": "code",
   "execution_count": 106,
   "metadata": {},
   "outputs": [
    {
     "name": "stdout",
     "output_type": "stream",
     "text": [
      "Naive Bayes Classifier:\n",
      "Accuracy Score Train: 0.5723397113125209\n",
      "Accuracy Score Test: 0.56797583081571\n"
     ]
    }
   ],
   "source": [
    "# Initialize the Naive Bayes classifier\n",
    "nb_classifier = GaussianNB()\n",
    "\n",
    "# Train the model on the training data\n",
    "nb_classifier.fit(X_train, y_train)\n",
    "\n",
    "# Make predictions on the training and testing data\n",
    "y_pred_train = nb_classifier.predict(X_train)\n",
    "y_pred_test = nb_classifier.predict(X_test)\n",
    "\n",
    "# Evaluate the model\n",
    "accuracy_train_7 = accuracy_score(y_train, y_pred_train)\n",
    "accuracy_test_7 = accuracy_score(y_test, y_pred_test)\n",
    "\n",
    "print('Naive Bayes Classifier:')\n",
    "print('Accuracy Score Train:', accuracy_train_7)\n",
    "print('Accuracy Score Test:', accuracy_test_7)\n"
   ]
  },
  {
   "cell_type": "markdown",
   "metadata": {},
   "source": [
    "# Model Selection"
   ]
  },
  {
   "cell_type": "code",
   "execution_count": 107,
   "metadata": {},
   "outputs": [
    {
     "name": "stdout",
     "output_type": "stream",
     "text": [
      "                  Classifier  Train Accuracy  Test Accuracy\n",
      "0        Logistic Regression        0.771232       0.777509\n",
      "1              Decision Tree        0.881655       0.766230\n",
      "2              Random Forest        0.881470       0.764619\n",
      "3                    XGBoost        0.807956       0.800470\n",
      "4            Neural Networks        0.791037       0.791742\n",
      "5  K-Nearest Neighbors (KNN)        0.810255       0.774757\n",
      "6                Naive-Bayes        0.572340       0.567976\n"
     ]
    }
   ],
   "source": [
    "model_selection = {\n",
    "    \"Classifier\": [\"Logistic Regression\", \"Decision Tree\", \"Random Forest\", \"XGBoost\", \"Neural Networks\", \"K-Nearest Neighbors (KNN)\", \"Naive-Bayes\"],\n",
    "    \"Train Accuracy\": [accuracy_train_1, accuracy_train_2, accuracy_train_3, accuracy_train_4, accuracy_train_5, accuracy_train_6, accuracy_train_7],\n",
    "    \"Test Accuracy\": [accuracy_test_1, accuracy_test_2, accuracy_test_3, accuracy_test_4, accuracy_test_5, accuracy_test_6, accuracy_test_7]\n",
    "}\n",
    "model_selection = pd.DataFrame(model_selection)\n",
    "print(model_selection)"
   ]
  },
  {
   "cell_type": "markdown",
   "metadata": {},
   "source": [
    "# The chosen Model to put forward is the XGBoostClassifier\n",
    "* The high test accuracy of XGBoost, coupled with its closely aligned train accuracy, underscores its ability to generalize well to unseen data while maintaining consistency with the training set. This harmony between train and test accuracy suggests that XGBoost effectively captures the underlying patterns in the data without overfitting. The model's capacity to discern complex relationships within the feature space enables it to make accurate predictions on both the training and testing datasets. This consistency indicates a robust learning process, where XGBoost adeptly balances model complexity and predictive performance. The similar train and test accuracies affirm the model's reliability and reinforce confidence in its predictive capabilities. Overall, XGBoost's ability to achieve high accuracy levels on unseen data while maintaining consistency with the training set highlights its efficacy and suitability for the task at hand."
   ]
  },
  {
   "cell_type": "markdown",
   "metadata": {},
   "source": [
    "# Feature Analysis"
   ]
  },
  {
   "cell_type": "code",
   "execution_count": 108,
   "metadata": {},
   "outputs": [],
   "source": [
    "feature_importance = xgb_classifier.feature_importances_\n",
    "\n",
    "feature_names = X_train.columns.tolist()"
   ]
  },
  {
   "cell_type": "code",
   "execution_count": 109,
   "metadata": {},
   "outputs": [
    {
     "data": {
      "image/png": "[encoded data removed]",
      "text/plain": [
       "<Figure size 1000x600 with 1 Axes>"
      ]
     },
     "metadata": {},
     "output_type": "display_data"
    }
   ],
   "source": [
    "# Sort feature_importance and feature_names together based on feature_importance\n",
    "sorted_indices = sorted(range(len(feature_importance)), key=lambda i: feature_importance[i], reverse=True)\n",
    "sorted_feature_importance = [feature_importance[i] for i in sorted_indices]\n",
    "sorted_feature_names = [feature_names[i] for i in sorted_indices]\n",
    "\n",
    "# Plot the sorted feature importance\n",
    "plt.figure(figsize=(10, 6))\n",
    "plt.barh(range(len(sorted_feature_importance)), sorted_feature_importance, align='center')\n",
    "plt.yticks(range(len(sorted_feature_importance)), sorted_feature_names)\n",
    "plt.xlabel('Feature Importance')\n",
    "plt.ylabel('Feature')\n",
    "plt.title('Feature Importance Plot')\n",
    "\n",
    "# Display numerical values on the bars\n",
    "for i, v in enumerate(sorted_feature_importance):\n",
    "    plt.text(v, i, f'{v:.3f}', color='black', va='center')\n",
    "\n",
    "plt.show()\n"
   ]
  },
  {
   "cell_type": "markdown",
   "metadata": {},
   "source": [
    "SUCESSO: Dummyy when the purchase is completed\n",
    "'minutos_1contato' : minutes between the first contact to the first automated contact\n",
    "'mulher', 1 if woman 0 other wize\n",
    "'N_contatos', = number of contacts \n",
    "'Servico_Assinatura', = dummy if the product is assinatura\n",
    "'Servico_Downsell', = dummy if the product is downsell\n",
    "'Servico_E-commerce', dummy if the product is ecommerce\n",
    "'Servico_Lançamento',dummy if the product is lançamento \n",
    "'Servico_Lista', dummy if the product is lista\n",
    "'Servico_Meteórico', dummy if the product is meteorico\n",
    "'Servico_Perpétuo', dummy if the product is perpetuo\n",
    "'Regiao_Centro-Oeste', dummy if the purchase is in centro oeste brasil\n",
    "'Regiao_Nordeste', dummy if the purchase is in nordeste brasil\n",
    "'Regiao_Norte, dummy if the purchase is in norte brasil\n",
    "'Regiao_Sudeste'dummy if the purchase is in sudeste brasil\n",
    "'Regiao_Sul'dummy if the purchase is in sul brasil"
   ]
  },
  {
   "cell_type": "code",
   "execution_count": 110,
   "metadata": {},
   "outputs": [
    {
     "name": "stdout",
     "output_type": "stream",
     "text": [
      "                Feature  Importance\n",
      "7         Servico_Lista    0.819421\n",
      "2            N_contatos    0.076009\n",
      "4      Servico_Downsell    0.017556\n",
      "0      minutos_1contato    0.013971\n",
      "6    Servico_Lançamento    0.013820\n",
      "1                mulher    0.007859\n",
      "5    Servico_E-commerce    0.006969\n",
      "9      Servico_Perpétuo    0.006532\n",
      "11      Regiao_Nordeste    0.006338\n",
      "3    Servico_Assinatura    0.006176\n",
      "10  Regiao_Centro-Oeste    0.005298\n",
      "12         Regiao_Norte    0.005193\n",
      "14           Regiao_Sul    0.005065\n",
      "8     Servico_Meteórico    0.004990\n",
      "13       Regiao_Sudeste    0.004803\n"
     ]
    }
   ],
   "source": [
    "# Create a DataFrame with feature names and their importances\n",
    "feature_importance_df = pd.DataFrame({'Feature': feature_names, 'Importance': feature_importance})\n",
    "\n",
    "# Sort the DataFrame by Importance in descending order\n",
    "feature_importance_df = feature_importance_df.sort_values(by='Importance', ascending=False)\n",
    "\n",
    "# Print the DataFrame\n",
    "print(feature_importance_df)"
   ]
  },
  {
   "cell_type": "markdown",
   "metadata": {},
   "source": [
    "1. Servico_Lista (Feature Importance: 0.775):\n",
    "    This feature has the highest importance, indicating that whether the product is a \"Lista\" has the most significant impact on the success of the purchase. It's likely that customers purchasing this product have a lower likelihood of completing the purchase.\n",
    "\n",
    "\n",
    "2. N_contatos (Feature Importance: 0.097):\n",
    "    The number of contacts also plays a significant role in determining the success of the purchase. It suggests that more interactions or follow-ups might lead to lower success rates.\n",
    "\n",
    "3. Servico_Downsell (Feature Importance: 0.030):\n",
    "    This feature represents whether the product is a \"Downsell.\" While not as important as \"Servico_Lista,\" it still contributes to the prediction, indicating that the type of product offered affects the success rate.\n",
    "\n",
    "4. minutos_1contato (Feature Importance: 0.015):\n",
    "    The minutes between the first contact and the first automated contact have a minor but noticeable impact on purchase success. This suggests that timing in the sales process may influence outcomes.\n",
    "\n",
    "5. Servico_Lançamento, Servico_E-commerce, mulher, Servico_Perpétuo, Regiao_Nordeste, Servico_Assinatura, Servico_Meteórico, Regiao_Centro-Oeste, Regiao_Norte, Regiao_Sudeste, Regiao_Sul:\n",
    "    These features have relatively lower importance compared to the top features but still contribute to the prediction to some extent. Each of these features represents different aspects such as the type of product, gender, and geographical region, which might have varying degrees of influence on purchase success.\n",
    "\n",
    "*  Overall, the analysis indicates that the type of product offered (Servico_Lista, Servico_Downsell, etc.) and the number of contacts (N_contatos) are the most crucial factors influencing the success of the purchase. This suggests that tailoring sales strategies based on product type and optimizing the number of contacts could potentially improve purchase success rates."
   ]
  },
  {
   "cell_type": "markdown",
   "metadata": {},
   "source": [
    "# Recomendations\n",
    "\n"
   ]
  },
  {
   "cell_type": "markdown",
   "metadata": {},
   "source": [
    "1. Avoiding Products in the \"Lista\" Category: Products categorized as \"Lista\" exhibit the lowest success rate, with only a marginal 1.23% success rate compared to the second-lowest category. Hence, it is advisable to refrain from focusing efforts on products in this category.\n",
    "\n",
    "2. Regional Focus: The region of the country where sales are made appears to have little significance in determining sales success. Therefore, it is suggested to avoid concentrating efforts on specific geographical areas as they do not significantly impact sales outcomes.\n",
    "\n",
    "3. Optimizing Contact Strategies: There is a negative correlation between the number of contacts made and the likelihood of completing a sale. Thus, efforts should be directed towards acquiring new clients rather than persistently contacting existing ones.\n",
    "\n",
    "4. Hiring Female Consultants/Workers: Female consultants/workers demonstrate a higher conversion rate compared to males, indicating their superior relationship-building and persuasion skills via text communication. Hence, it is recommended to prioritize hiring female consultants/workers, as they are more effective in convincing customers to make purchases. This hypothesis has been validated through our analysis.\n",
    "\n",
    "5. Minimizing Response Time: A shorter duration between the first human message and the preceding automated message correlates with a higher likelihood of completing a sale. Therefore, prioritizing rapid response times following automated messages is crucial for maximizing sales conversion rates."
   ]
  }
 ],
 "metadata": {
  "kernelspec": {
   "display_name": "base",
   "language": "python",
   "name": "python3"
  },
  "language_info": {
   "codemirror_mode": {
    "name": "ipython",
    "version": 3
   },
   "file_extension": ".py",
   "mimetype": "text/x-python",
   "name": "python",
   "nbconvert_exporter": "python",
   "pygments_lexer": "ipython3",
   "version": "3.11.5"
  }
 },
 "nbformat": 4,
 "nbformat_minor": 2
}
